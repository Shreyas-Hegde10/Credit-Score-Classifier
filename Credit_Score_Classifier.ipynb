{
 "cells": [
  {
   "cell_type": "markdown",
   "metadata": {},
   "source": [
    "Importing Libraries"
   ]
  },
  {
   "cell_type": "code",
   "execution_count": null,
   "metadata": {},
   "outputs": [],
   "source": [
    "import pandas as pd\n",
    "import numpy as np\n",
    "import plotly.express as px\n",
    "import plotly.graph_objects as go\n",
    "import plotly.io as pio \n",
    "import sklearn \n",
    "from sklearn.model_selection import train_test_split, cross_val_score \n",
    "from sklearn.ensemble import RandomForestClassifier  \n",
    "from sklearn.metrics import accuracy_score, confusion_matrix  \n",
    "from sklearn.preprocessing import MinMaxScaler, OneHotEncoder  \n",
    "from bayes_opt import BayesianOptimization\n",
    "import optuna\n",
    "pio.templates.default = \"plotly_white\"  \n",
    "import joblib"
   ]
  },
  {
   "cell_type": "markdown",
   "metadata": {},
   "source": [
    "Loading and Viewing The Data"
   ]
  },
  {
   "cell_type": "code",
   "execution_count": null,
   "metadata": {},
   "outputs": [],
   "source": [
    "credit_card_data = pd.read_csv(\"train.csv\") \n",
    "print(credit_card_data.info())"
   ]
  },
  {
   "cell_type": "code",
   "execution_count": null,
   "metadata": {},
   "outputs": [],
   "source": [
    "# Checking if dataset has any null values or not \n",
    "print(credit_card_data.isnull().sum()) # No null values for any columns ; no need for imputation"
   ]
  },
  {
   "cell_type": "markdown",
   "metadata": {},
   "source": [
    "Data Visualization"
   ]
  },
  {
   "cell_type": "code",
   "execution_count": null,
   "metadata": {},
   "outputs": [],
   "source": [
    "fig = px.box(credit_card_data, x = \"Occupation\", color = \"Credit_Score\", title = \"Credit Scores Based on Occupation\") \n",
    "fig.show() # No difference in credit scores among different occupations "
   ]
  },
  {
   "cell_type": "code",
   "execution_count": null,
   "metadata": {},
   "outputs": [],
   "source": [
    "fig = px.box(credit_card_data, x = \"Credit_Score\", y = \"Annual_Income\", color = \"Credit_Score\", title = \"Credit Scores Based on Annual Income\")\n",
    "fig.show() # Average annual income increases as credit score increases "
   ]
  },
  {
   "cell_type": "code",
   "execution_count": null,
   "metadata": {},
   "outputs": [],
   "source": [
    "fig = px.box(credit_card_data, x = \"Credit_Score\", y = \"Age\", color = \"Credit_Score\", title = \"Credit Scores Based on Annual Income\")\n",
    "fig.show() # Older people tend to have higher average credit scores "
   ]
  },
  {
   "cell_type": "code",
   "execution_count": null,
   "metadata": {},
   "outputs": [],
   "source": [
    "fig = px.box(credit_card_data, x = \"Credit_Score\", y = \"Monthly_Inhand_Salary\", color = \"Credit_Score\", title = \"Credit Scores Based on Monthly Inhand Salary\")\n",
    "fig.show() # The more monthly inhand salary you receive, the higher your credit score will most likely be "
   ]
  },
  {
   "cell_type": "code",
   "execution_count": null,
   "metadata": {},
   "outputs": [],
   "source": [
    "fig = px.box(credit_card_data, x = \"Credit_Score\", y = \"Num_Bank_Accounts\", color = \"Credit_Score\", title = \"Credit Scores Based on Number of Bank Accounts\")\n",
    "fig.show() # Having a large amount of bank accounts negatively impacts your credit score; 2-3 bank accounts are an optimal number "
   ]
  },
  {
   "cell_type": "code",
   "execution_count": null,
   "metadata": {},
   "outputs": [],
   "source": [
    "fig = px.box(credit_card_data, x = \"Credit_Score\", y = \"Num_Credit_Card\", color = \"Credit_Score\", title = \"Credit Scores Based on Number of Credit Cards\")\n",
    "fig.show() # Having a large amount of credit card accounts is bad for your credit score "
   ]
  },
  {
   "cell_type": "code",
   "execution_count": null,
   "metadata": {},
   "outputs": [],
   "source": [
    "fig = px.box(credit_card_data, x = \"Credit_Score\", y = \"Interest_Rate\", color = \"Credit_Score\", title = \"Credit Scores Based on Interest Rate\")\n",
    "fig.show() # Account holders with good credit scores are offered lower interest rates on average"
   ]
  },
  {
   "cell_type": "code",
   "execution_count": null,
   "metadata": {},
   "outputs": [],
   "source": [
    "fig = px.box(credit_card_data, x = \"Credit_Score\", y = \"Num_of_Loan\", color = \"Credit_Score\", title = \"Credit Scores Based on Number of Loans\")\n",
    "fig.show() # People with good credit scores tend to take a lower amount of loans "
   ]
  },
  {
   "cell_type": "code",
   "execution_count": null,
   "metadata": {},
   "outputs": [],
   "source": [
    "fig = px.box(credit_card_data, x = \"Type_of_Loan\", color = \"Credit_Score\", title = \"Credit Scores Based on Type of Loan Taken\")\n",
    "fig.show() # No real correlation to credit score & the type of loan taken "
   ]
  },
  {
   "cell_type": "code",
   "execution_count": null,
   "metadata": {},
   "outputs": [],
   "source": [
    "fig = px.box(credit_card_data, x = \"Credit_Score\", y = \"Delay_from_due_date\", color = \"Credit_Score\", title = \"Credit Scores Based on Avg Number of Days Delayed for Credit Card Payments\")\n",
    "fig.show() # People with lower number of days delayed for credit card have better credit scores "
   ]
  },
  {
   "cell_type": "code",
   "execution_count": null,
   "metadata": {},
   "outputs": [],
   "source": [
    "fig = px.box(credit_card_data, x = \"Credit_Score\", y = \"Num_of_Delayed_Payment\", color = \"Credit_Score\", title = \"Credit Scores Based on Number of Delayed Card Payments\")\n",
    "fig.show() # People with lower number of delayed payments have higher credit scores(4-12 late payments are fine)"
   ]
  },
  {
   "cell_type": "code",
   "execution_count": null,
   "metadata": {},
   "outputs": [],
   "source": [
    "fig = px.box(credit_card_data, x = \"Credit_Score\", y = \"Changed_Credit_Limit\", color = \"Credit_Score\", title = \"Credit Scores Based on % Change in Credit Card Limit\")\n",
    "fig.show() # People with good credit scores have lower percent change in credit card limit(lower correlation compared to other indicators) "
   ]
  },
  {
   "cell_type": "code",
   "execution_count": null,
   "metadata": {},
   "outputs": [],
   "source": [
    "fig = px.box(credit_card_data, x = \"Credit_Score\", y = \"Num_Credit_Inquiries\", color = \"Credit_Score\", title = \"Credit Scores Based on Number of Credit Card Inquiries\")\n",
    "fig.show() # People with good credit scores have lower number of credit card inquiries(lots of outliers for good credit scores)"
   ]
  },
  {
   "cell_type": "code",
   "execution_count": null,
   "metadata": {},
   "outputs": [],
   "source": [
    "fig = px.box(credit_card_data, x = \"Credit_Score\", y = \"Outstanding_Debt\", color = \"Credit_Score\", title = \"Credit Scores Based on Outstanding Debt\")\n",
    "fig.show() # People with lower outstanding debt have higher credit scores(lots of outliers)"
   ]
  },
  {
   "cell_type": "code",
   "execution_count": null,
   "metadata": {},
   "outputs": [],
   "source": [
    "fig = px.box(credit_card_data, x = \"Credit_Score\", y = \"Credit_Utilization_Ratio\", color = \"Credit_Score\", title = \"Credit Scores Based on Credit Utilization Ratio\")\n",
    "fig.show() # No effect on credit scores"
   ]
  },
  {
   "cell_type": "code",
   "execution_count": null,
   "metadata": {},
   "outputs": [],
   "source": [
    "fig = px.box(credit_card_data, x = \"Credit_Score\", y = \"Total_EMI_per_month\", color = \"Credit_Score\", title = \"Credit Scores Based on Total EMI Per Month\")\n",
    "fig.show() # Low impact on credit score "
   ]
  },
  {
   "cell_type": "code",
   "execution_count": null,
   "metadata": {},
   "outputs": [],
   "source": [
    "fig = px.box(credit_card_data, x=\"Credit_Score\", y=\"Amount_invested_monthly\", color=\"Credit_Score\", title=\"Credit Scores Based on Amount Invested Monthly\") \n",
    "fig.show() # On average, people with higher credit scores have invested more money each month(lots of outliers)"
   ]
  },
  {
   "cell_type": "code",
   "execution_count": null,
   "metadata": {},
   "outputs": [],
   "source": [
    "fig = px.box(credit_card_data, x=\"Credit_Score\", y=\"Monthly_Balance\", color=\"Credit_Score\", title=\"Credit Scores Based on Monthly Balance\") \n",
    "fig.show() # People with higher monthly balances have higher credit scores \n"
   ]
  },
  {
   "cell_type": "markdown",
   "metadata": {},
   "source": [
    "Creating a Training, Validation, & Test Set"
   ]
  },
  {
   "cell_type": "code",
   "execution_count": null,
   "metadata": {},
   "outputs": [],
   "source": [
    "train_df, test_df = train_test_split(credit_card_data,test_size=0.33,random_state=42)\n",
    "\n",
    "print('train_df.shape :', train_df.shape)\n",
    "print('test_df.shape :', test_df.shape)"
   ]
  },
  {
   "cell_type": "code",
   "execution_count": null,
   "metadata": {},
   "outputs": [],
   "source": [
    "input_cols = [\"Age\", \"Annual_Income\", \"Monthly_Inhand_Salary\", \"Num_Bank_Accounts\", \"Num_Credit_Card\",\"Interest_Rate\",\"Num_of_Loan\",\"Delay_from_due_date\",\"Changed_Credit_Limit\", \"Num_Credit_Inquiries\", \"Credit_Mix\", \"Credit_History_Age\", \"Amount_invested_monthly\", \"Monthly_Balance\"]\n",
    "target_col = [\"Credit_Score\"]"
   ]
  },
  {
   "cell_type": "code",
   "execution_count": null,
   "metadata": {},
   "outputs": [],
   "source": [
    "train_inputs = train_df[input_cols].copy() \n",
    "train_targets = train_df[target_col].copy() \n",
    "\n",
    "test_inputs = test_df[input_cols].copy() \n",
    "test_targets = test_df[target_col].copy() \n"
   ]
  },
  {
   "cell_type": "code",
   "execution_count": null,
   "metadata": {},
   "outputs": [],
   "source": [
    "numeric_cols = train_inputs.select_dtypes(include = np.number).columns.tolist()\n",
    "categorical_cols = train_inputs.select_dtypes(\"object\").columns.tolist()  \n"
   ]
  },
  {
   "cell_type": "markdown",
   "metadata": {},
   "source": [
    "Scaling & One-Hot Encoding "
   ]
  },
  {
   "cell_type": "code",
   "execution_count": null,
   "metadata": {},
   "outputs": [],
   "source": [
    "scaler = MinMaxScaler().fit(credit_card_data[numeric_cols]) \n",
    "train_inputs[numeric_cols] = scaler.transform(train_inputs[numeric_cols])\n",
    "test_inputs[numeric_cols] = scaler.transform(test_inputs[numeric_cols])  \n"
   ]
  },
  {
   "cell_type": "code",
   "execution_count": null,
   "metadata": {},
   "outputs": [],
   "source": [
    "encoder = OneHotEncoder(sparse_output=False, handle_unknown=\"ignore\").fit(credit_card_data[categorical_cols])\n",
    "encoded_cols = list(encoder.get_feature_names_out(categorical_cols))\n",
    "\n",
    "train_inputs[encoded_cols] = encoder.transform(train_inputs[categorical_cols])\n",
    "test_inputs[encoded_cols] = encoder.transform(test_inputs[categorical_cols])"
   ]
  },
  {
   "cell_type": "code",
   "execution_count": null,
   "metadata": {},
   "outputs": [],
   "source": [
    "x_train = train_inputs[numeric_cols + encoded_cols]\n",
    "x_test = test_inputs[numeric_cols + encoded_cols] \n",
    "x_train"
   ]
  },
  {
   "cell_type": "markdown",
   "metadata": {},
   "source": [
    "Training the Baseline Model"
   ]
  },
  {
   "cell_type": "code",
   "execution_count": null,
   "metadata": {},
   "outputs": [],
   "source": [
    "baseline_model = RandomForestClassifier(n_jobs = -1, random_state = 42).fit(x_train, train_targets) \n",
    "train_acc = accuracy_score(train_targets,baseline_model.predict(x_train)) \n",
    "test_acc = accuracy_score(test_targets, baseline_model.predict(x_test)) \n",
    "print(train_acc, test_acc) # Training Accuracy = 0.9999, Test Accuracy = 0.8099"
   ]
  },
  {
   "cell_type": "markdown",
   "metadata": {},
   "source": [
    "Hyperparameter Tuning Using Optuna,Bayesian Optimization"
   ]
  },
  {
   "cell_type": "code",
   "execution_count": null,
   "metadata": {},
   "outputs": [],
   "source": [
    "def objective(trial):\n",
    "    n_estimators = trial.suggest_int('n_estimators', 10, 100)\n",
    "    max_depth = trial.suggest_int('max_depth', 2, 32)\n",
    "    min_samples_split = trial.suggest_int('min_samples_split', 2, 10)\n",
    "    min_samples_leaf = trial.suggest_int('min_samples_leaf', 1, 10)\n",
    "    max_features = trial.suggest_categorical('max_features', ['sqrt', 'log2', None])  # Removed 'auto'\n",
    "\n",
    "    model = RandomForestClassifier(\n",
    "        n_estimators=n_estimators,\n",
    "        max_depth=max_depth,\n",
    "        min_samples_split=min_samples_split,\n",
    "        min_samples_leaf=min_samples_leaf,\n",
    "        max_features=max_features,\n",
    "        random_state=42\n",
    "    )\n",
    "    \n",
    "    score = cross_val_score(model, x_train, train_targets, n_jobs=-1, cv=10, scoring='accuracy').mean()\n",
    "    \n",
    "    return score\n",
    "\n",
    "# Create the Optuna study and optimize\n",
    "study = optuna.create_study(direction='maximize')\n",
    "study.optimize(objective, n_trials=20)\n",
    "\n",
    "# Print the best hyperparameters\n",
    "print(\"Best hyperparameters: \", study.best_params)"
   ]
  },
  {
   "cell_type": "markdown",
   "metadata": {},
   "source": [
    "Final Random Forests"
   ]
  },
  {
   "cell_type": "code",
   "execution_count": null,
   "metadata": {},
   "outputs": [],
   "source": [
    "final_rf_model = RandomForestClassifier(n_jobs=-1,random_state=42, n_estimators = 63, max_depth = 28, min_samples_split = 4, min_samples_leaf = 1, max_features = 'log2').fit(x_train,train_targets)\n",
    "train_acc = accuracy_score(train_targets,final_rf_model.predict(x_train)) \n",
    "test_acc = accuracy_score(test_targets, final_rf_model.predict(x_test)) \n",
    "print(train_acc ,test_acc) # Lower training,validation, & testing accuracy \n",
    "\n",
    "# Saving the model for deployment \n",
    "joblib.dump(final_rf_model, 'final_rf_model.joblib')"
   ]
  },
  {
   "cell_type": "code",
   "execution_count": null,
   "metadata": {},
   "outputs": [],
   "source": [
    "def rf_objective(n_estimators, max_depth, min_samples_split, min_samples_leaf, max_features): \n",
    "    n_estimators = int(n_estimators)\n",
    "    max_depth = int(max_depth) \n",
    "    min_samples_split = int(min_samples_split)\n",
    "    min_samples_leaf = int(min_samples_leaf) \n",
    "    max_features = max_features \n",
    "\n",
    "    model = RandomForestClassifier(n_jobs = -1, \n",
    "                                   random_state=42, \n",
    "                                   n_estimators = n_estimators, \n",
    "                                   max_depth = max_depth,\n",
    "                                   min_samples_split = min_samples_split,\n",
    "                                   min_samples_leaf = min_samples_leaf,\n",
    "                                   max_features = max_features).fit(x_train, train_targets)\n",
    "    \n",
    "    test_preds = model.predict(x_test)\n",
    "    test_accuracy = accuracy_score(test_targets,test_preds)\n",
    "\n",
    "    return test_accuracy \n",
    "\n",
    "# Setting bounds for hyperparameters \n",
    "pbounds = {\n",
    "    'n_estimators': (10, 100),\n",
    "    'max_depth': (5, 50),\n",
    "    'min_samples_split': (2, 20),\n",
    "    'min_samples_leaf': (1, 20),\n",
    "    'max_features': (0.1, 1.0) \n",
    "} \n",
    "\n",
    "# Initializing Bayesian Optimizer \n",
    "optimizer = BayesianOptimization(\n",
    "    f = rf_objective, \n",
    "    pbounds = pbounds, \n",
    "    random_state = 42, \n",
    "    verbose = 2 \n",
    ")\n",
    "\n",
    "# Running optimization process \n",
    "optimizer.maximize(init_points = 10, n_iter = 30) \n",
    "\n",
    "# Retrieving the best parameters \n",
    "best_params = optimizer.max[\"params\"]\n",
    "best_params['n_estimators'] = int(best_params['n_estimators'])\n",
    "best_params['max_depth'] = int(best_params['max_depth'])\n",
    "best_params['min_samples_split'] = int(best_params['min_samples_split'])\n",
    "best_params['min_samples_leaf'] = int(best_params['min_samples_leaf']) \n",
    "\n",
    "\n",
    "final_rf_model_1 = RandomForestClassifier(\n",
    "    n_jobs=-1,\n",
    "    random_state=42,\n",
    "    **best_params\n",
    ").fit(x_train, train_targets)\n",
    "\n",
    "train_acc = accuracy_score(train_targets, final_rf_model_1.predict(x_train))\n",
    "test_acc = accuracy_score(test_targets, final_rf_model_1.predict(x_test))\n",
    "print(train_acc, test_acc)\n"
   ]
  },
  {
   "cell_type": "code",
   "execution_count": null,
   "metadata": {},
   "outputs": [],
   "source": [
    "#Summary(Training Accuracy & Test Accuracy) \n",
    "#Baseline: 0.9999701492537313 0.809939393939394\n",
    "#Optuna: 0.9650746268656717 0.8084242424242424\n",
    "#Bayesian Optimization: 0.999910447761194 0.809030303030303\n",
    "#Baseline: The highest test accuracy but significant overfitting.\n",
    "#Optuna: Good balance between training and test accuracy, indicating better generalization.\n",
    "#Bayesian Optimization: Similar to Baseline, slight overfitting but not as pronounced as Baseline. "
   ]
  }
 ],
 "metadata": {
  "kernelspec": {
   "display_name": "Python 3",
   "language": "python",
   "name": "python3"
  },
  "language_info": {
   "codemirror_mode": {
    "name": "ipython",
    "version": 3
   },
   "file_extension": ".py",
   "mimetype": "text/x-python",
   "name": "python",
   "nbconvert_exporter": "python",
   "pygments_lexer": "ipython3",
   "version": "3.12.3"
  }
 },
 "nbformat": 4,
 "nbformat_minor": 2
}
